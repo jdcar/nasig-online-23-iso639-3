{
 "cells": [
  {
   "cell_type": "markdown",
   "id": "1e60c162-18d0-441c-909d-f49644fcb0fb",
   "metadata": {
    "tags": []
   },
   "source": [
    "# Adding ISO 639-3 language codes to MARC Records using OpenRefine Wikidata Reconciliation"
   ]
  },
  {
   "cell_type": "markdown",
   "id": "d7617272",
   "metadata": {},
   "source": [
    "Northwestern Libraries uses ExLibris Alma and Primo."
   ]
  },
  {
   "cell_type": "markdown",
   "id": "2686519a",
   "metadata": {},
   "source": [
    "The Melville J. Herskovits Library of African Studies contains 220,729 physical items. Many of these are in African languages. MARC languages (also known as ISO 639-2) describes many African languages under their broad family name. These broad family codes (639-2) fail to capture the linguistic diversity of Africa. \n",
    "\n",
    "This is a list off all the African language families that appear in the Herskovits Library:\n",
    "\n",
    "| Code | Name |\n",
    "| ----------- | ----------- |\n",
    "| afa | Afroasiatic (Other)\n",
    "| ber | Berber (Other)\n",
    "| bnt | Bantu (Other)\n",
    "| cpe | Creoles and Pidgins, English-based (Other)\n",
    "| cpf | Creoles and Pidgins, French-based (Other)\n",
    "| cpp | Creoles and Pidgins, Portuguese-based (Other)\n",
    "| crp | Creoles and Pidgins (Other)\n",
    "| cus | Cushitic (Other)\n",
    "| khi | Khoisan (Other)\n",
    "| kro | Kru (Other)\n",
    "| nic | Niger-Kordofanian (Other)\n",
    "| ssa | Nilo-Saharan (Other)\n",
    "| tai | Tai (Other)"
   ]
  },
  {
   "cell_type": "markdown",
   "id": "ee3dea9d",
   "metadata": {},
   "source": [
    "Since the MARC language codes uses 639-2, this means that the languages that appears in the Primo display and filters are the broad language families. In this example we see that Niger-Kordofanian is the displayed language:\n",
    "![Primo display](img/primo-example.JPG)"
   ]
  },
  {
   "cell_type": "markdown",
   "id": "b45ac2d9",
   "metadata": {},
   "source": [
    "NIC (Niger-Kordofanian(Other)) is the language in the fixed field and the 041 (yellow), which is the source of the language in Primo. \n",
    "\n",
    "![MARC record](img/MARC-example.JPG)"
   ]
  },
  {
   "cell_type": "markdown",
   "id": "091940ee",
   "metadata": {},
   "source": [
    "The recent [Guidelines for the use of ISO 639-3 language codes in MARC records](https://www.loc.gov/aba/pcc/scs/documents/ISO-639-3-guidelines.pdf) make it possible to add the ISO-639-3 codes to MARC records. The 639-3 codes include information for more granular languages. There are 7,916 entries in the 639-3 list, compared to 487 on the 639-2 list."
   ]
  },
  {
   "cell_type": "markdown",
   "id": "9f86135e",
   "metadata": {},
   "source": [
    "To go back to the previous MARC example, the information about the granular language is in the MARC record in the title, notes, or subject headings (blue). We wanted to get this granular language information converted to a 639-3 code so it can be utilized in the Primo search display.\n",
    "\n",
    "![MARC record](img/MARC-example.JPG)"
   ]
  },
  {
   "cell_type": "markdown",
   "id": "fe421a27",
   "metadata": {},
   "source": [
    "The method I used to get this information from a note to a 639-3 code was OpenRefine Wikidata Reconciliation. This is a tool built into OpenRefine. "
   ]
  },
  {
   "cell_type": "markdown",
   "id": "ca3483ae",
   "metadata": {},
   "source": [
    "First, the MARC records need to be converted to csv. To do this, I used the Export Tab Delimited feature in MarcEdit.\n",
    "![MarcEdit](img/marcedit-export.JPG)"
   ]
  },
  {
   "cell_type": "markdown",
   "id": "e09953ac",
   "metadata": {},
   "source": [
    "The fields exported contain possible information on the granular language and other import record infromation, like the unique identifier. \n",
    "Export fields: 001, 008, 041, 245, 246, 260, 264, 500, 650.\n",
    "![MarcEdit](img/marcedit-export-fields.JPG)"
   ]
  },
  {
   "cell_type": "markdown",
   "id": "d63971aa",
   "metadata": {},
   "source": [
    "This file can be uploaded into OpenRefine, cleaned, and reconciled with Wikidata in order to get ISO 639-3 language codes."
   ]
  },
  {
   "cell_type": "code",
   "execution_count": null,
   "id": "9529bece",
   "metadata": {},
   "outputs": [],
   "source": []
  },
  {
   "cell_type": "code",
   "execution_count": null,
   "id": "2e97beb9-6fea-4077-b286-b874f245ecfe",
   "metadata": {},
   "outputs": [],
   "source": []
  }
 ],
 "metadata": {
  "kernelspec": {
   "display_name": "Python 3 (ipykernel)",
   "language": "python",
   "name": "python3"
  },
  "language_info": {
   "codemirror_mode": {
    "name": "ipython",
    "version": 3
   },
   "file_extension": ".py",
   "mimetype": "text/x-python",
   "name": "python",
   "nbconvert_exporter": "python",
   "pygments_lexer": "ipython3",
   "version": "3.10.3"
  }
 },
 "nbformat": 4,
 "nbformat_minor": 5
}
