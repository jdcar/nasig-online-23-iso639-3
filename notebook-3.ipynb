{
 "cells": [
  {
   "cell_type": "markdown",
   "id": "c437ffe5-c5f2-4e23-a4c0-c1472e82df4b",
   "metadata": {},
   "source": [
    "# Adding codes back into records"
   ]
  },
  {
   "cell_type": "markdown",
   "id": "632c1e57-f0f6-4e2e-820f-1c72d15a7cd1",
   "metadata": {},
   "source": [
    "I export the results from OpenRefine into a table. The columns I need are the MMSid (from Alma) and the columns added during the OpenRefine steps.\n",
    "<img src=\"img/excel1.JPG\">"
   ]
  },
  {
   "cell_type": "markdown",
   "id": "98dfaf87-84d4-4bb6-a811-4fb66db8044d",
   "metadata": {},
   "source": [
    "The tab delimited file can be converted to MARC using the MarcEdit Delimited Text Translator. \n",
    "<img src=\"img/excel2.JPG\">"
   ]
  },
  {
   "cell_type": "markdown",
   "id": "5a7d4c5e-bb28-4c16-940d-4d1f5f122feb",
   "metadata": {},
   "source": [
    "This builds a MARC file with the language codes.\n",
    "\n",
    "<img src=\"img/excel3.JPG\">"
   ]
  },
  {
   "cell_type": "markdown",
   "id": "a0aa88af-1a5f-4cd9-9bfc-38a75e532a77",
   "metadata": {},
   "source": [
    "This file is then merged with the original export file using the MarcEdit Merge tool.\n",
    "<img src=\"img/marceditmerge.JPG\">"
   ]
  },
  {
   "cell_type": "markdown",
   "id": "97122279-8cfb-4637-9900-7b76aaf4a30f",
   "metadata": {},
   "source": [
    "Once the files are merged, they can be imported back into Alma."
   ]
  },
  {
   "cell_type": "markdown",
   "id": "474a9fb9-3a9a-4e7d-8c0b-0adefe158829",
   "metadata": {},
   "source": [
    "My colleague created a Primo rule that mapped the language codes to language names and add the linked data language to create this display:\n",
    "\n",
    "<img src=\"img/primo-example-1.JPG\">\n"
   ]
  },
  {
   "cell_type": "markdown",
   "id": "57ab223a-e939-4293-b167-1df9069e6331",
   "metadata": {},
   "source": [
    "Example of merged records:\n",
    "https://search.library.northwestern.edu/discovery/fulldisplay?docid=alma9910078494202441&context=L&vid=01NWU_INST:NULVNEW&lang=en&search_scope=MyInst_and_CI&adaptor=Local%20Search%20Engine&tab=Everything&query=any,contains,9910078494202441&offset=0\n",
    "\n",
    "https://search.library.northwestern.edu/discovery/fulldisplay?docid=alma9980445154902441&context=L&vid=01NWU_INST:NULVNEW&lang=en&search_scope=MyInst_and_CI&adaptor=Local%20Search%20Engine&tab=Everything&query=any,contains,9980445154902441&offset=0"
   ]
  },
  {
   "cell_type": "markdown",
   "id": "b5782133-95f8-48a8-964d-3a961207574b",
   "metadata": {},
   "source": [
    "Next Steps:\n",
    "- Adding more codes to Africana records\n",
    "- Considering other areas that could benefit from this work"
   ]
  },
  {
   "cell_type": "code",
   "execution_count": null,
   "id": "1eca75fc-8c4e-49b6-90d1-456e2a232a22",
   "metadata": {},
   "outputs": [],
   "source": []
  }
 ],
 "metadata": {
  "kernelspec": {
   "display_name": "Python 3 (ipykernel)",
   "language": "python",
   "name": "python3"
  },
  "language_info": {
   "codemirror_mode": {
    "name": "ipython",
    "version": 3
   },
   "file_extension": ".py",
   "mimetype": "text/x-python",
   "name": "python",
   "nbconvert_exporter": "python",
   "pygments_lexer": "ipython3",
   "version": "3.10.3"
  }
 },
 "nbformat": 4,
 "nbformat_minor": 5
}
