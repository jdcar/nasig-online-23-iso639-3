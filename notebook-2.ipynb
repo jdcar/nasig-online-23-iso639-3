{
 "cells": [
  {
   "cell_type": "markdown",
   "id": "b3665a54-8de3-44ae-8270-16d6a83fd0fc",
   "metadata": {},
   "source": [
    "# OpenRefine steps"
   ]
  },
  {
   "cell_type": "markdown",
   "id": "ef99df0e",
   "metadata": {},
   "source": [
    "The MARC data is loaded into OpenRefine so we can use the OpenRefine Wikidata Reconcilation tool https://openrefine.org/docs/manual/reconciling"
   ]
  },
  {
   "cell_type": "markdown",
   "id": "7e1564dc-0ba6-48ad-81dc-14e60cfbb030",
   "metadata": {},
   "source": [
    "The end results we want looks something like this: https://search.library.northwestern.edu/discovery/fulldisplay?docid=alma997264804202441&context=L&vid=01NWU_INST:NULVNEW&lang=en&search_scope=MyInst_and_CI&adaptor=Local%20Search%20Engine&tab=Everything&query=any,contains,997264804202441&offset=0"
   ]
  },
  {
   "cell_type": "markdown",
   "id": "62f20b99",
   "metadata": {},
   "source": [
    "There is no one way to clean up data in OpenRefine. This example I will clean up the subject information, reconcile it to Wikidata, add the data to the MARC record, and import back to Alma."
   ]
  },
  {
   "cell_type": "markdown",
   "id": "309312e7",
   "metadata": {},
   "source": [
    "After the import, if the MARC record had duplicate tags they will be separated by a semicolon. The language will still be in MARC encoding. We will want to clean this field up so we can reconcile it. \n",
    "![Refine after import](img/refine1.JPG)"
   ]
  },
  {
   "cell_type": "markdown",
   "id": "f7f1b986",
   "metadata": {},
   "source": [
    "Edit cells > Split multi-valued cells... -- This will put each subject on its own line"
   ]
  },
  {
   "cell_type": "markdown",
   "id": "65b92f8e",
   "metadata": {},
   "source": [
    "Fill down on Column \"001\" -- This makes sure each row maintains the unique identifer"
   ]
  },
  {
   "cell_type": "markdown",
   "id": "6615b55f",
   "metadata": {},
   "source": [
    "Filter Subject for the word \"language\""
   ]
  },
  {
   "cell_type": "markdown",
   "id": "0468826a",
   "metadata": {},
   "source": [
    "Create new column Subject based on column 650 by filling 84 rows with `grel:value.replace(/(^..)(\\$.)(.+?language)(.+)/, \"$3\")` -- This makes the Subject column \"[  ] language\"\n",
    "<img src=\"img/refine2.JPG\" width=\"30%\">"
   ]
  },
  {
   "cell_type": "markdown",
   "id": "9e0b94d3",
   "metadata": {},
   "source": [
    "Now that the Subject languages are clean it is ready to reconcile.\n",
    "Reconcile > Start reconciling > Wikidata reconcil.link(en) > Reconcile each cell to an entity of one of these types > Language > Start reconciling...\n",
    "<img src=\"img/reconcile-gif.gif\" >"
   ]
  },
  {
   "cell_type": "markdown",
   "id": "50f854a5",
   "metadata": {},
   "source": [
    "The results of the reconciliation will either automatically match the term to Wikidata or not match. For \"None\" matches, OpenRefine will provide a few guesses. You can then manually check these.\n",
    "\n"
   ]
  },
  {
   "cell_type": "markdown",
   "id": "1f95db9f",
   "metadata": {},
   "source": [
    "<img src=\"img/reconcile-gif-2.gif\" >"
   ]
  },
  {
   "cell_type": "markdown",
   "id": "51878b1a-1830-47df-ba7d-5951a7f99dcc",
   "metadata": {},
   "source": [
    "I also recommend reviewing the automatic matches. Some languages might match to a language with the same name in another region. For example, Bulu is a language in Cameroon and Papua New Guinea. In this case, I needed to tell OpenRefine to select the first Bulu. If you hover over the options, OpenRefine shows a preview of Wikidata. If the preview is not enough you can open the Wikidata record.\n",
    "\n",
    "![Refine after import](img/refine3.JPG) "
   ]
  },
  {
   "cell_type": "markdown",
   "id": "56886071-b9a3-4030-b40e-9b2712eacbcc",
   "metadata": {},
   "source": [
    "Someimes, OpenRefine will not be able to find any accurate matches. If that happens, you can select \"Search for match.\" This pops up a box where you can search Wikidata. \n",
    "<img src=\"img/refine4.JPG\" width=\"30%\">"
   ]
  },
  {
   "cell_type": "markdown",
   "id": "969fa99b-0ad5-4aa8-b933-575161495f83",
   "metadata": {},
   "source": [
    "Or, you can find the right match in Wikidata and input the correct QID into the search box.\n",
    "<img src=\"img/reconcile-gif-3.gif\"  >"
   ]
  },
  {
   "cell_type": "markdown",
   "id": "58d7a9fc-65a7-488f-9e08-25a446313e5d",
   "metadata": {},
   "source": [
    "At this point, 60 out of 100 records have at least one language reconciled to Wikidata. It is time to go through the remaining records and look for other language information. "
   ]
  },
  {
   "cell_type": "markdown",
   "id": "6a59564f-7532-4263-af7e-4f458335f09a",
   "metadata": {},
   "source": [
    "Some records may not have any additional language information. In those cases I will note \"no code.\""
   ]
  },
  {
   "cell_type": "markdown",
   "id": "dc7ee274-c102-414a-8566-79fa4abd0f3b",
   "metadata": {},
   "source": [
    "<img src=\"img/refine5.JPG\">"
   ]
  },
  {
   "cell_type": "markdown",
   "id": "82993c7a-5777-4fff-9b1d-c2b0a7bc1beb",
   "metadata": {},
   "source": [
    "In this example, the language is in the 500 note. \n",
    "<img src=\"img/refine6.JPG\">"
   ]
  },
  {
   "cell_type": "markdown",
   "id": "05cfdd3e-2d67-465b-ac81-c623c25d6e71",
   "metadata": {},
   "source": [
    "In that case, I will just write in Berom and reconcile the Subject again once I'm finished cleaning up unreconciled fields.\n",
    "<img src=\"img/refine7.JPG\">"
   ]
  },
  {
   "cell_type": "markdown",
   "id": "471fdc67-78b9-47a8-897c-a26d1aa5151e",
   "metadata": {},
   "source": [
    "Once all the languages are reconciled, use the \"Add columns from reconciled values...\" feature.\n",
    "<p>Edit column > Add columns from reconciled values... > Add property: ISO 639-3 code > OK</p>"
   ]
  },
  {
   "cell_type": "markdown",
   "id": "ee9d44bd-898a-453a-9dc1-c1b7258049e4",
   "metadata": {},
   "source": [
    "Not every language reconciled will have a 639-3 code, but those that do will have a column added with the codes. Once that column exists, I add the additional information needed for the MARC records. This includes \n",
    "\n",
    "- Link to Wikidata item for the language\n",
    "- Link to sil.org item for the language\n",
    "- 041 tag (`$anup$2iso639-3`)\n",
    "- Internal note (`$aReviewed for ISO-639-3 project$c20231004$ejdc`)\n"
   ]
  },
  {
   "cell_type": "markdown",
   "id": "04ad1171-431b-4eed-9ba2-cefe8779ed91",
   "metadata": {},
   "source": [
    "The Guidelines do not provide rules for adding linked data fields, so we made up our own by adding 041s with the links.\n",
    "\n",
    "`=041  \\7$anup$2 iso639-3`\n",
    "\n",
    "`=041  \\7$1https://www.wikidata.org/wiki/Q36720`\n",
    "\n",
    "`=041  \\7$1https://iso639-3.sil.org/code/nup`"
   ]
  },
  {
   "cell_type": "code",
   "execution_count": null,
   "id": "19534f78-d64f-4ff5-b7aa-1442abdbe57e",
   "metadata": {},
   "outputs": [],
   "source": []
  }
 ],
 "metadata": {
  "kernelspec": {
   "display_name": "Python 3 (ipykernel)",
   "language": "python",
   "name": "python3"
  },
  "language_info": {
   "codemirror_mode": {
    "name": "ipython",
    "version": 3
   },
   "file_extension": ".py",
   "mimetype": "text/x-python",
   "name": "python",
   "nbconvert_exporter": "python",
   "pygments_lexer": "ipython3",
   "version": "3.10.3"
  }
 },
 "nbformat": 4,
 "nbformat_minor": 5
}
